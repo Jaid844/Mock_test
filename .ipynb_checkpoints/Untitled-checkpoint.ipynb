{
 "cells": [
  {
   "cell_type": "code",
   "execution_count": null,
   "id": "3b16a44b",
   "metadata": {},
   "outputs": [],
   "source": [
    "1. Scenario: A company wants to analyze the sales performance of its products in different regions. They have collected the following data:\n",
    "   Region A: [10, 15, 12, 8, 14]\n",
    "   Region B: [18, 20, 16, 22, 25]\n",
    "   Calculate the mean sales for each region.\n"
   ]
  },
  {
   "cell_type": "code",
   "execution_count": null,
   "id": "172b7a26",
   "metadata": {},
   "outputs": [],
   "source": [
    "Mean of A=11.8\n",
    "Mean of B=20.2"
   ]
  },
  {
   "cell_type": "code",
   "execution_count": null,
   "id": "8ecac393",
   "metadata": {},
   "outputs": [],
   "source": [
    "Scenario: A survey is conducted to measure customer satisfaction on a scale of 1 to 5. The data collected is as follows:\n",
    "   [4, 5, 2, 3, 5, 4, 3, 2, 4, 5]\n",
    "   Calculate the mode of the survey responses.\n"
   ]
  },
  {
   "cell_type": "code",
   "execution_count": null,
   "id": "93bfc5f7",
   "metadata": {},
   "outputs": [],
   "source": [
    "4 and 5"
   ]
  },
  {
   "cell_type": "code",
   "execution_count": null,
   "id": "de734749",
   "metadata": {},
   "outputs": [],
   "source": [
    "Scenario: A company wants to compare the salaries of two departments. The salary data for Department A and Department B are as follows:\n",
    "   Department A: [5000, 6000, 5500, 7000]\n",
    "   Department B: [4500, 5500, 5800, 6000, 5200]\n",
    "   Calculate the median salary for each department.\n"
   ]
  },
  {
   "cell_type": "code",
   "execution_count": null,
   "id": "0b6e5f4d",
   "metadata": {},
   "outputs": [],
   "source": [
    "median of A =5750\n",
    "medain of B=5500"
   ]
  },
  {
   "cell_type": "code",
   "execution_count": null,
   "id": "df232e22",
   "metadata": {},
   "outputs": [],
   "source": [
    " Scenario: A data analyst wants to determine the variability in the daily stock prices of a company. The data collected is as follows:\n",
    "   [25.5, 24.8, 26.1, 25.3, 24.9]\n",
    "   Calculate the range of the stock prices.\n"
   ]
  },
  {
   "cell_type": "code",
   "execution_count": null,
   "id": "80db5f92",
   "metadata": {},
   "outputs": [],
   "source": [
    "range =26.1-24.8\n",
    "1.3"
   ]
  },
  {
   "cell_type": "code",
   "execution_count": null,
   "id": "d94d153c",
   "metadata": {},
   "outputs": [],
   "source": [
    " Scenario: A study is conducted to compare the performance of two different teaching methods. The test scores of the students in each group are as follows:\n",
    "   Group A: [85, 90, 92, 88, 91]\n",
    "   Group B: [82, 88, 90, 86, 87]\n",
    "   Perform a t-test to determine if there is a significant difference in the mean scores between the two groups.\n"
   ]
  },
  {
   "cell_type": "code",
   "execution_count": null,
   "id": "e965dd8f",
   "metadata": {},
   "outputs": [],
   "source": [
    "In this scenario, since the p-value (0.582) is greater than α (0.05), we fail to reject the null hypothesis. Therefore, we conclude that there is no significant difference in the mean scores between Group A and Group B."
   ]
  },
  {
   "cell_type": "code",
   "execution_count": null,
   "id": "4cb1d45e",
   "metadata": {},
   "outputs": [],
   "source": [
    "Correlation Coefficient (r) = 37.8 / (5.54 * 9.04) ≈ 0.674"
   ]
  },
  {
   "cell_type": "code",
   "execution_count": null,
   "id": "fa7b3343",
   "metadata": {},
   "outputs": [],
   "source": [
    " Scenario: A survey is conducted to measure the heights of a group of people. The data collected is as follows:\n",
    "   [160, 170, 165, 155, 175, 180, 170]\n",
    "   Calculate the standard deviation of the heights.\n"
   ]
  },
  {
   "cell_type": "code",
   "execution_count": null,
   "id": "b73ed396",
   "metadata": {},
   "outputs": [],
   "source": [
    "standard devation=8.16"
   ]
  },
  {
   "cell_type": "code",
   "execution_count": null,
   "id": "4460accf",
   "metadata": {},
   "outputs": [],
   "source": [
    "8. Scenario: A company wants to analyze the relationship between employee tenure and job satisfaction. The data collected is as follows:\n",
    "   Employee Tenure (in years): [2, 3, 5, 4, 6, 2, 4]\n",
    "   Job Satisfaction (on a scale of 1 to 10): [7, 8, 6, 9, 5, 7, 6]\n",
    "   Perform a linear regression analysis to predict job satisfaction based on employee tenu\n"
   ]
  },
  {
   "cell_type": "code",
   "execution_count": null,
   "id": "e70d28bf",
   "metadata": {},
   "outputs": [],
   "source": [
    "Y-Intercept (β0) = Mean of Job Satisfaction - (Slope * Mean of Employee Tenure)\n",
    "β0 = 6.86 - (-0.437 * 3.57) ≈ 8.42 (rounded to two decimal places)"
   ]
  },
  {
   "cell_type": "code",
   "execution_count": null,
   "id": "db3d3462",
   "metadata": {},
   "outputs": [],
   "source": [
    "9. Scenario: A study is conducted to compare the effectiveness of two different medications. The recovery times of the patients in each group are as follows:\n",
    "   Medication A: [10, 12, 14, 11, 13]\n",
    "   Medication B: [15, 17, 16, 14, 18]\n",
    "   Perform an analysis of variance (ANOVA) to determine if there is a significant difference in the mean recovery times between the two medications.\n"
   ]
  },
  {
   "cell_type": "code",
   "execution_count": null,
   "id": "44164288",
   "metadata": {},
   "outputs": [],
   "source": [
    "Compare the p-value with the significance level (α) to make a decision. If the p-value is less than α (0.05 in this case), we reject the null hypothesis and conclude that there is a significant difference in the mean recovery times between Medication A and Medication B. If the p-value is greater than or equal to α, we fail to reject the null hypothesis and conclude that there is no significant difference in the mean recovery times.\n",
    "\n",
    "In this scenario, since the p-value (0.152) is greater than α (0.05), we fail to reject the null hypothesis. Therefore, we conclude that there is no significant difference in the mean recovery times between Medication A and Medication B.\n",
    "\n",
    "It's important to note that the ANOVA assumes certain assumptions, such as the normality of data, independence of observations, and equality of variances across groups. Violation of these assumptions may require alternative tests or modifications to the ANOVA."
   ]
  },
  {
   "cell_type": "code",
   "execution_count": null,
   "id": "2454b1ce",
   "metadata": {},
   "outputs": [],
   "source": [
    ". Scenario: A company wants to analyze customer feedback ratings on a scale of 1 to 10. The data collected is\n",
    "\n",
    " as follows:\n",
    "    [8, 9, 7, 6, 8, 10, 9, 8, 7, 8]\n",
    "    Calculate the 75th percentile of the feedback ratings.\n"
   ]
  },
  {
   "cell_type": "code",
   "execution_count": null,
   "id": "bdce6061",
   "metadata": {},
   "outputs": [],
   "source": [
    "Percentile position = (75 / 100) * (N + 1),\n",
    "where N is the total number of data points.\n",
    "\n",
    "In this case, N = 10, so the percentile position = (75 / 100) * (10 + 1) = 8.25."
   ]
  },
  {
   "cell_type": "code",
   "execution_count": null,
   "id": "bfe999ea",
   "metadata": {},
   "outputs": [],
   "source": [
    "To perform a hypothesis test to determine if the mean weight differs significantly from 10 grams, we can use a one-sample t-test. This test compares the mean of a sample to a specified value (in this case, 10 grams) to assess if there is a significant difference.\n",
    "\n",
    "Given the sample weights:\n",
    "[10.2, 9.8, 10.0, 10.5, 10.3, 10.1]\n",
    "\n",
    "Let's go through the steps to perform the one-sample t-test:\n",
    "\n",
    "Step 1: State the null and alternative hypotheses:\n",
    "\n",
    "Null hypothesis (H0): The mean weight is equal to 10 grams.\n",
    "Alternative hypothesis (Ha): The mean weight differs significantly from 10 grams.\n",
    "Step 2: Set the significance level (α) to determine the threshold for rejecting the null hypothesis. Let's assume α = 0.05, which is a commonly used value.\n",
    "\n",
    "Step 3: Calculate the sample mean, sample standard deviation, and sample size:\n",
    "\n",
    "Sample mean (x̄) = (10.2 + 9.8 + 10.0 + 10.5 + 10.3 + 10.1) / 6 = 10.17 (rounded to two decimal places)\n",
    "\n",
    "Sample standard deviation (s) = √[Σ(xi - x̄)² / (n - 1)]\n",
    "= √[((10.2 - 10.17)² + (9.8 - 10.17)² + (10.0 - 10.17)² + (10.5 - 10.17)² + (10.3 - 10.17)² + (10.1 - 10.17)²) / (6 - 1)]\n",
    "≈ 0.25 (rounded to two decimal places)\n",
    "\n",
    "Sample size (n) = 6\n",
    "\n",
    "Step 4: Calculate the t-statistic:\n",
    "\n",
    "t-statistic = (x̄ - μ) / (s / √n)\n",
    "= (10.17 - 10) / (0.25 / √6)\n",
    "≈ 1.89 (rounded to two decimal places)\n",
    "\n",
    "Step 5: Determine the degrees of freedom:\n",
    "\n",
    "Degrees of freedom (df) = n - 1 = 6 - 1 = 5\n",
    "\n",
    "Step 6: Calculate the critical value:\n",
    "\n",
    "For a two-tailed test at α = 0.05 and df = 5, the critical t-value is approximately ±2.571 (obtained from a t-table or statistical software).\n",
    "\n",
    "Step 7: Make a decision:\n",
    "\n",
    "Compare the absolute value of the t-statistic (1.89) with the critical t-value (2.571). If the absolute value of the t-statistic is greater than the critical t-value, we reject the null hypothesis. If the absolute value of the t-statistic is less than or equal to the critical t-value, we fail to reject the null hypothesis.\n",
    "\n",
    "In this case, the absolute value of the t-statistic (1.89) is less than the critical t-value (2.571). Therefore, we fail to reject the null hypothesis.\n",
    "\n",
    "Conclusion:\n",
    "Based on the one-sample t-test, there is insufficient evidence to conclude that the mean weight differs significantly from 10 grams."
   ]
  },
  {
   "cell_type": "code",
   "execution_count": null,
   "id": "1ffc2ed0",
   "metadata": {},
   "outputs": [],
   "source": [
    "Scenario: A company wants to analyze the click-through rates of two different website designs. The number of clicks for each design is as follows:\n",
    "    Design A: [100, 120, 110, 90, 95]\n",
    "    Design B: [80, 85, 90, 95, 100]\n",
    "    Perform a chi-square test to determine if there is a significant difference in the click-through rates between the two designs.\n"
   ]
  },
  {
   "cell_type": "code",
   "execution_count": null,
   "id": "d5931a2e",
   "metadata": {},
   "outputs": [],
   "source": [
    "Compare the chi-square statistic with the critical value. If the chi-square statistic is greater than the critical value, we reject the null hypothesis. If the chi-square statistic is less than or equal to the critical value, we fail to reject the null hypothesis.\n",
    "\n",
    "Conclusion:\n",
    "Based on the calculated chi-square statistic and comparing it to the critical value, you can determine if there is a significant difference in the click-through rates between Design A and Design B"
   ]
  },
  {
   "cell_type": "code",
   "execution_count": null,
   "id": "b8562b94",
   "metadata": {},
   "outputs": [],
   "source": [
    "the 95% confidence interval for the population mean satisfaction score is approximately 7.178 to 8.622. This means that we are 95% confident that the true population mean satisfaction score falls within this range based on the given sample data."
   ]
  },
  {
   "cell_type": "code",
   "execution_count": null,
   "id": "cedaf484",
   "metadata": {},
   "outputs": [],
   "source": [
    "Y-Intercept (β0) = Mean of Performance - (Slope * Mean of Temperature)\n",
    "β0 = 7.6 - (0.4 * 21) = -0.4\n",
    "\n",
    "Therefore, the linear regression equation to predict performance based on temperature is:\n",
    "Performance = -0.4 + 0.4 * Temperature\n",
    "\n",
    "By plugging in the value of temperature, you can estimate the corresponding performance."
   ]
  },
  {
   "cell_type": "code",
   "execution_count": null,
   "id": "199859b8",
   "metadata": {},
   "outputs": [],
   "source": [
    "\n",
    "16. Scenario: A company wants to analyze the distribution of customer ages. The data collected is as follows:\n",
    "    [25, 30, 35, 40, 45, 50, 55, 60, 65, 70]\n",
    "    Calculate the interquartile range (IQR) of the ages.\n"
   ]
  },
  {
   "cell_type": "code",
   "execution_count": null,
   "id": "2e323007",
   "metadata": {},
   "outputs": [],
   "source": [
    "Q1 position = (25 / 100) * (N + 1) = (25 / 100) * (10 + 1) = 2.75 (rounded to two decimal places)\n",
    "Q3 position = (75 / 100) * (N + 1) = (75 / 100) * (10 + 1) = 8.25 \n",
    "IQR = Q3 - Q1 = 60 - 35 = 25."
   ]
  },
  {
   "cell_type": "code",
   "execution_count": null,
   "id": "7b9b19cf",
   "metadata": {},
   "outputs": [],
   "source": [
    "17. Scenario: A study is conducted to compare the performance of three different machine learning algorithms. The accuracy scores for each algorithm are as follows:\n",
    "    Algorithm A: [0.85, 0.80, 0.82, 0.87, 0.83]\n",
    "    Algorithm B: [0.78, 0.82, 0.84, 0.80, 0.79]\n",
    "    Algorithm C: [0.90, 0.88, 0.89, 0.86, 0.87]\n",
    "    Perform a Kruskal-Wallis test to determine if there is a significant difference in the median accuracy scores between the algorithms.\n"
   ]
  },
  {
   "cell_type": "code",
   "execution_count": null,
   "id": "88508d68",
   "metadata": {},
   "outputs": [],
   "source": [
    "ing the significance level (α) and the degrees of freedom (k - 1), where k is the number of groups (3 in this case), you can obtain the critical value from a chi-square distribution table or statistical software.\n",
    "\n",
    "For α = 0.05 and df = 2, the critical value is approximately 5.991 (obtained from a chi-square distribution table or statistical software).\n",
    "\n",
    "Step 7: Make a decision.\n",
    "\n",
    "If the H-statistic is greater than the critical value, we reject the null hypothesis and conclude that there is a significant difference in the median accuracy scores between the algorithms. If the H-statistic is less than or equal to the critical value, we fail to reject the null hypothesis and conclude that there is no significant difference in the median accuracy scores.\n",
    "\n",
    "In this case, the H-statistic (15.86) is greater than the critical value (5.991). Therefore, we reject the null hypothesis and conclude that there is a significant difference in the median accuracy scores between the algorithms.\n",
    "\n",
    "Conclusion:\n",
    "Based on the Kruskal-Wallis test, there is sufficient evidence to suggest that there is a significant difference in the median accuracy scores between Algorithm A, Algorithm B, and Algorithm C."
   ]
  }
 ],
 "metadata": {
  "kernelspec": {
   "display_name": "Python 3 (ipykernel)",
   "language": "python",
   "name": "python3"
  },
  "language_info": {
   "codemirror_mode": {
    "name": "ipython",
    "version": 3
   },
   "file_extension": ".py",
   "mimetype": "text/x-python",
   "name": "python",
   "nbconvert_exporter": "python",
   "pygments_lexer": "ipython3",
   "version": "3.11.2"
  }
 },
 "nbformat": 4,
 "nbformat_minor": 5
}
